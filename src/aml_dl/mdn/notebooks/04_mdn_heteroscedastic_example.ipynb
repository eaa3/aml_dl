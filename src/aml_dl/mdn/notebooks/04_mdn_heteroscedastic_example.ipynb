{
 "cells": [
  {
   "cell_type": "markdown",
   "metadata": {
    "collapsed": true
   },
   "source": [
    "### MDN Heteroscedastic Example ###"
   ]
  },
  {
   "cell_type": "markdown",
   "metadata": {},
   "source": [
    "\"We use the same network architecture: 1-hidden layer neural network with ReLU nonlinearity (Nair and Hinton, 2010), containing 50 hidden units for smaller datasets and 100 hidden units for the larger protein and Year Prediction MSD datasets\""
   ]
  },
  {
   "cell_type": "markdown",
   "metadata": {},
   "source": [
    "\"We trained for 40 epochs; we refer to (Herna ́ndez-Lobato and Adams, 2015) for further details about the datasets and the experimental protocol. We used 5 networks in our ensemble. Our results are shown in Table 1, along with the PBP and MC-dropout results reported in their respective papers\""
   ]
  },
  {
   "cell_type": "markdown",
   "metadata": {},
   "source": [
    "\"On some datasets, we observe that our method is slightly worse in terms of RMSE. We believe that this might be caused due to the het- eroscedastic regression training criterion, which optimises for NLL instead of MSE as discussed in the toy example in Figure 3.\""
   ]
  },
  {
   "cell_type": "code",
   "execution_count": 73,
   "metadata": {},
   "outputs": [
    {
     "name": "stdout",
     "output_type": "stream",
     "text": [
      "The autoreload extension is already loaded. To reload it, use:\n",
      "  %reload_ext autoreload\n"
     ]
    }
   ],
   "source": [
    "%load_ext autoreload"
   ]
  },
  {
   "cell_type": "code",
   "execution_count": 74,
   "metadata": {
    "collapsed": true
   },
   "outputs": [],
   "source": [
    "%autoreload 2"
   ]
  },
  {
   "cell_type": "code",
   "execution_count": 75,
   "metadata": {},
   "outputs": [],
   "source": [
    "%matplotlib inline"
   ]
  },
  {
   "cell_type": "code",
   "execution_count": 76,
   "metadata": {
    "collapsed": true,
    "scrolled": true
   },
   "outputs": [],
   "source": [
    "import os\n",
    "import copy\n",
    "import random\n",
    "import numpy as np\n",
    "import tensorflow as tf\n",
    "import matplotlib.pyplot as plt\n",
    "from aml_dl.mdn.model.mdn import MDN\n",
    "\n",
    "from aml_dl.gp.simple_gp import GaussianProcess, kernel\n",
    "\n",
    "from IPython import display\n",
    "import time"
   ]
  },
  {
   "cell_type": "markdown",
   "metadata": {},
   "source": [
    "## Configs"
   ]
  },
  {
   "cell_type": "code",
   "execution_count": 77,
   "metadata": {
    "collapsed": true
   },
   "outputs": [],
   "source": [
    "\n",
    "\n",
    "\n",
    "adam_params = {\n",
    "    'type': 'adam',\n",
    "    'params': {'learning_rate' : 0.001, 'beta1': 0.9, 'beta2': 0.999, 'epsilon': 1e-08, 'use_locking': False}\n",
    "}\n",
    "\n",
    "network_params = {\n",
    "    'dim_input': 1, \n",
    "    'dim_output': 1,\n",
    "    'n_hidden': [100],#[20,20,10],\n",
    "    'k_mixtures': 1,\n",
    "    'write_summary': False,\n",
    "    'load_saved_model': False,\n",
    "#     'model_dir': check_point_dir + '/inv/',\n",
    "#     'model_name':'ensemble_model_inv_10_kernels.ckpt',\n",
    "    'optimiser': adam_params,\n",
    "#     'summary_dir':summary_dir+'/inv/',\n",
    "    'device': '/cpu:0',\n",
    "    'adv_epsilon': 0.01,\n",
    "    'reg_lambda': 0.01\n",
    "}"
   ]
  },
  {
   "cell_type": "code",
   "execution_count": 78,
   "metadata": {
    "collapsed": true
   },
   "outputs": [],
   "source": [
    "tf.set_random_seed(42)\n",
    "np.random.seed(seed=42)\n",
    "sess = tf.InteractiveSession()"
   ]
  },
  {
   "cell_type": "code",
   "execution_count": 79,
   "metadata": {
    "collapsed": true
   },
   "outputs": [],
   "source": [
    "model = MDN(sess,network_params)\n",
    "model.init_model()"
   ]
  },
  {
   "cell_type": "code",
   "execution_count": 80,
   "metadata": {
    "collapsed": true
   },
   "outputs": [],
   "source": [
    "noise_level = 0.1#0.00000001;\n",
    "width = 1.0 # 0.5\n",
    "scale = 30 # 30\n",
    "\n",
    "\n",
    "gp = GaussianProcess(noise_level, width, scale, kernel)"
   ]
  },
  {
   "cell_type": "markdown",
   "metadata": {
    "collapsed": true
   },
   "source": [
    "## Prepare data"
   ]
  },
  {
   "cell_type": "code",
   "execution_count": 81,
   "metadata": {
    "collapsed": true
   },
   "outputs": [],
   "source": [
    "def fun_h(t, noise_gain=0.):\n",
    "    if len(t.shape) > 1:\n",
    "        noise = noise_gain*np.random.randn(t.shape[0],t.shape[1])\n",
    "    else:\n",
    "        noise = noise_gain*np.random.randn(t.shape[0])\n",
    "    return np.cos(2*t - 1/2)/2 + np.cos(t) + 1 + noise\n",
    "\n",
    "def fun_poly(t, noise_gain=0.):\n",
    "    if len(t.shape) > 1:\n",
    "        noise = noise_gain*np.random.randn(t.shape[0],t.shape[1])\n",
    "    else:\n",
    "        noise = noise_gain*np.random.randn(t.shape[0])\n",
    "    return -0.01*(t ** 3) + np.square(t)*0.01 + noise\n",
    "\n",
    "def fun_cubic_poly(t, noise_gain=0.):\n",
    "    if len(t.shape) > 1:\n",
    "        noise = noise_gain*np.random.randn(t.shape[0],t.shape[1])\n",
    "    else:\n",
    "        noise = noise_gain*np.random.randn(t.shape[0])\n",
    "    return 0.01*(t ** 3) + 0.01*noise\n",
    "\n",
    "# *\n",
    "def fun_s(t, noise_gain=0.):\n",
    "    if len(t.shape) > 1:\n",
    "        noise = noise_gain*np.random.randn(t.shape[0],t.shape[1])\n",
    "    else:\n",
    "        noise = noise_gain*np.random.randn(t.shape[0])\n",
    "    return (t-8) ** 3 - 5 * (t - 8)\n",
    "\n",
    "def fun_c(t, noise_gain=0.0):\n",
    "    if len(t.shape) > 1:\n",
    "        noise = noise_gain*np.random.randn(t.shape[0],t.shape[1])\n",
    "    else:\n",
    "        noise = noise_gain*np.random.randn(t.shape[0])\n",
    "        \n",
    "    return t * np.cos(t) + noise\n",
    "\n",
    "def fun_g(t, noise_gain=0.):\n",
    "    if len(t.shape) > 1:\n",
    "        noise = noise_gain*np.random.randn(t.shape[0],t.shape[1])\n",
    "    else:\n",
    "        noise = noise_gain*np.random.randn(t.shape[0])\n",
    "    noise = noise_gain*np.random.randn(d1, d2)\n",
    "    return np.divide(np.power(np.multiply((np.sin(t) - np.sin(2*t)/2 + np.sin(3*t)/3. - \n",
    "                                           np.sin(4*t)/4. + 4),t),2),(t+1)) + noise\n",
    "\n",
    "def sawtoothxy(x,y):\n",
    "    t, r = cart2pol(x,y) # change to polar coordinates\n",
    "    h = fun_h(t)\n",
    "    g = fun_g(r)\n",
    "    f = np.multiply(g,h)\n",
    "    return f\n",
    "\n",
    "\n",
    "def f_heteroscedastic(X, std = 1.0):\n",
    "    # target function is just a linear relationship + heteroscadastic noise\n",
    "    return X + std*np.random.multivariate_normal(np.zeros(X.shape[0]),\n",
    "                                                 np.diag(X**2), 1)[0]\n",
    "\n",
    "func_y = f_heteroscedastic"
   ]
  },
  {
   "cell_type": "code",
   "execution_count": 82,
   "metadata": {},
   "outputs": [
    {
     "data": {
      "text/plain": [
       "<matplotlib.text.Text at 0x13b364350>"
      ]
     },
     "execution_count": 82,
     "metadata": {},
     "output_type": "execute_result"
    },
    {
     "data": {
      "image/png": "[encoded data removed]",
      "text/plain": [
       "<matplotlib.figure.Figure at 0x13a6e5d10>"
      ]
     },
     "metadata": {},
     "output_type": "display_data"
    }
   ],
   "source": [
    "num_data_points = 200 # 1000\n",
    "x_values = np.random.uniform(-7.5, 7.5, num_data_points)  # input data\n",
    "y_values = func_y(x_values, 0.5)\n",
    "x_true = np.linspace(-7.5,7.5, num_data_points)\n",
    "y_true = x_true\n",
    "x_test = x_true\n",
    "\n",
    "train_idx = np.arange(num_data_points)#np.random.choice(np.arange(300,1650),20)\n",
    "\n",
    "# plt.plot(x_values, y_values, 'dodgerblue', linewidth=3.0)\n",
    "plt.plot(x_values[train_idx], y_values[train_idx], 'ro')\n",
    "plt.xlabel(\"h\")\n",
    "plt.ylabel(\"y\")\n",
    "# print x_values[300:1450]\n",
    "# print y_values[300:1450]"
   ]
  },
  {
   "cell_type": "code",
   "execution_count": 83,
   "metadata": {
    "collapsed": true
   },
   "outputs": [],
   "source": [
    "# x_train = np.vstack([x_values[200:400,None],x_values[750:1000,None],x_values[1250:1450,None]])\n",
    "# y_train = np.vstack([y_values[200:400,None],y_values[750:1000,None],y_values[1250:1450,None]])"
   ]
  },
  {
   "cell_type": "code",
   "execution_count": 84,
   "metadata": {
    "collapsed": true
   },
   "outputs": [],
   "source": [
    "x_train = np.vstack([x_values[train_idx,None]])\n",
    "y_train = np.vstack([y_values[train_idx,None]])"
   ]
  },
  {
   "cell_type": "code",
   "execution_count": 85,
   "metadata": {
    "collapsed": true
   },
   "outputs": [],
   "source": [
    "for idx in range(x_train.shape[0]):\n",
    "    gp.update(x_train[idx,:], y_train[idx,:])"
   ]
  },
  {
   "cell_type": "code",
   "execution_count": 86,
   "metadata": {
    "collapsed": true
   },
   "outputs": [],
   "source": [
    "pred, cov, logp = gp.predict3(x_test)\n",
    "std = np.diagonal(cov)"
   ]
  },
  {
   "cell_type": "code",
   "execution_count": 87,
   "metadata": {
    "collapsed": true
   },
   "outputs": [],
   "source": [
    "sample_posterior = gp.sample_multivariate(pred, cov, len(pred), 5)"
   ]
  },
  {
   "cell_type": "code",
   "execution_count": 88,
   "metadata": {
    "scrolled": true
   },
   "outputs": [
    {
     "data": {
      "text/plain": [
       "<matplotlib.text.Text at 0x139c05650>"
      ]
     },
     "execution_count": 88,
     "metadata": {},
     "output_type": "execute_result"
    },
    {
     "data": {
      "image/png": "[encoded data removed]",
      "text/plain": [
       "<matplotlib.figure.Figure at 0x13a432ad0>"
      ]
     },
     "metadata": {},
     "output_type": "display_data"
    }
   ],
   "source": [
    "fig2 = plt.figure(2, figsize=(8,8))\n",
    "plt.errorbar(x_test, pred, yerr=np.sqrt(std)*3.0, fmt='r-', ecolor='g', elinewidth=0.25, linewidth=3.5)\n",
    "plt.plot(x_test, y_true, 'dodgerblue', linewidth=3.0)\n",
    "# plt.plot(x_values, sample_posterior)\n",
    "# plt.xlim([0,12])\n",
    "# plt.ylim([-0,3.0])\n",
    "plt.plot(gp.x, gp.y, 'ro')\n",
    "plt.xlabel(\"h\")\n",
    "plt.ylabel(\"y\")"
   ]
  },
  {
   "cell_type": "code",
   "execution_count": 94,
   "metadata": {
    "scrolled": false
   },
   "outputs": [
    {
     "data": {
      "text/plain": [
       "<matplotlib.text.Text at 0x13b02b290>"
      ]
     },
     "execution_count": 94,
     "metadata": {},
     "output_type": "execute_result"
    },
    {
     "data": {
      "image/png": "[encoded data removed]",
      "text/plain": [
       "<matplotlib.figure.Figure at 0x13ae6f450>"
      ]
     },
     "metadata": {},
     "output_type": "display_data"
    }
   ],
   "source": [
    "stddev = 3.0 #3.0\n",
    "fig = plt.figure(figsize=(10,10))\n",
    "ax = fig.add_subplot(211)\n",
    "ypl = [float(mu-stddev*np.sqrt(sig)) for mu,sig in zip(pred,std)]\n",
    "yph = [float(mu+stddev*np.sqrt(sig)) for mu,sig in zip(pred,std)]\n",
    "\n",
    "# ax.plot(x_true, y_true, color='r')\n",
    "plt.plot(x_test, y_true, 'dodgerblue', linewidth=3.0)\n",
    "\n",
    "ax.fill_between(x_true.tolist(), ypl, yph, facecolor='grey', interpolate=True, alpha=0.9)\n",
    "plt.plot(gp.x, gp.y, 'ro')\n",
    "plt.plot(x_test, pred, color='b', linewidth=2.5)\n",
    "plt.xlabel(\"h\")\n",
    "plt.ylabel(\"y\")\n",
    "\n",
    "error = np.sqrt(np.mean(np.square(pred-y_true)))\n",
    "plt.title(\"GP predictions (RMS: %0.3f)\"%(error,))\n",
    "\n",
    "# ax2 = fig.add_subplot(212)\n",
    "\n",
    "# ax2.plot(x_true, np.sqrt(std)*stddev, color='g')"
   ]
  },
  {
   "cell_type": "code",
   "execution_count": 93,
   "metadata": {
    "scrolled": false
   },
   "outputs": [
    {
     "data": {
      "image/png": "[encoded data removed]",
      "text/plain": [
       "<matplotlib.figure.Figure at 0x13937a8d0>"
      ]
     },
     "metadata": {},
     "output_type": "display_data"
    }
   ],
   "source": [
    "plt.figure()\n",
    "plt.scatter(x_train,y_train)\n",
    "plt.plot(x_true,y_true)\n",
    "plt.show()"
   ]
  },
  {
   "cell_type": "code",
   "execution_count": 62,
   "metadata": {
    "collapsed": true
   },
   "outputs": [],
   "source": [
    "iterations = 40"
   ]
  },
  {
   "cell_type": "code",
   "execution_count": 63,
   "metadata": {
    "collapsed": true,
    "scrolled": true
   },
   "outputs": [],
   "source": [
    "mean_loss = []\n",
    "for i in range(40):\n",
    "    loss = model.train(x_train, y_train, iterations)\n",
    "\n",
    "#     fig, mloss = test_and_plot(i, loss)\n",
    "#     mean_loss.append(np.mean(mloss))\n",
    "#     ax2 = fig.add_subplot(414)\n",
    "#     ax2.plot(mean_loss, 'r-')\n",
    "    \n",
    "#     display.display(plt.gcf())\n",
    "#     display.clear_output(wait=True)\n",
    "#     time.sleep(0.001)\n",
    "    \n",
    "# ax = fig2.add_subplot(212)\n",
    "#  ax.plot(np.arange(100, iterations,1), loss[0, 100:], 'r-')"
   ]
  },
  {
   "cell_type": "markdown",
   "metadata": {},
   "source": [
    "## Test"
   ]
  },
  {
   "cell_type": "code",
   "execution_count": 64,
   "metadata": {
    "collapsed": true
   },
   "outputs": [],
   "source": [
    "x_test = x_true#np.linspace(0, 12, num_data_points)\n",
    "y_test = y_values #fun_h(x_test, 0.0)"
   ]
  },
  {
   "cell_type": "code",
   "execution_count": 65,
   "metadata": {
    "collapsed": true
   },
   "outputs": [],
   "source": [
    "out_mus = model.run_op('mu', np.expand_dims(x_test,axis=1))\n",
    "out_sigma = model.run_op('sigma', np.expand_dims(x_test,axis=1))\n",
    "out_pis = model.run_op('pi', np.expand_dims(x_test,axis=1))"
   ]
  },
  {
   "cell_type": "code",
   "execution_count": 66,
   "metadata": {},
   "outputs": [
    {
     "name": "stdout",
     "output_type": "stream",
     "text": [
      "[[  1.03742256e+01]\n",
      " [  1.02283020e+01]\n",
      " [  1.00793705e+01]\n",
      " [  9.92751503e+00]\n",
      " [  9.77281570e+00]\n",
      " [  9.61537933e+00]\n",
      " [  9.45528793e+00]\n",
      " [  9.29268932e+00]\n",
      " [  9.12770462e+00]\n",
      " [  8.96044922e+00]\n",
      " [  8.79108810e+00]\n",
      " [  8.61976242e+00]\n",
      " [  8.44663620e+00]\n",
      " [  8.27185440e+00]\n",
      " [  8.09562397e+00]\n",
      " [  7.91812563e+00]\n",
      " [  7.73953533e+00]\n",
      " [  7.56004000e+00]\n",
      " [  7.37987614e+00]\n",
      " [  7.19923019e+00]\n",
      " [  7.01832438e+00]\n",
      " [  6.83736897e+00]\n",
      " [  6.65657711e+00]\n",
      " [  6.47617912e+00]\n",
      " [  6.29640484e+00]\n",
      " [  6.11747026e+00]\n",
      " [  5.93959045e+00]\n",
      " [  5.76300716e+00]\n",
      " [  5.58792067e+00]\n",
      " [  5.41455746e+00]\n",
      " [  5.24312210e+00]\n",
      " [  5.07382011e+00]\n",
      " [  4.90685415e+00]\n",
      " [  4.74240589e+00]\n",
      " [  4.58066177e+00]\n",
      " [  4.42179108e+00]\n",
      " [  4.26594877e+00]\n",
      " [  4.11328745e+00]\n",
      " [  3.96393681e+00]\n",
      " [  3.81803036e+00]\n",
      " [  3.67565989e+00]\n",
      " [  3.53693008e+00]\n",
      " [  3.40191627e+00]\n",
      " [  3.27067852e+00]\n",
      " [  3.14326549e+00]\n",
      " [  3.01970220e+00]\n",
      " [  2.90001583e+00]\n",
      " [  2.78419018e+00]\n",
      " [  2.67221379e+00]\n",
      " [  2.56404352e+00]\n",
      " [  2.45963645e+00]\n",
      " [  2.35891485e+00]\n",
      " [  2.26179361e+00]\n",
      " [  2.16818094e+00]\n",
      " [  2.07794690e+00]\n",
      " [  1.99096441e+00]\n",
      " [  1.90708268e+00]\n",
      " [  1.82613385e+00]\n",
      " [  1.74793959e+00]\n",
      " [  1.67230368e+00]\n",
      " [  1.59902370e+00]\n",
      " [  1.52787077e+00]\n",
      " [  1.45861864e+00]\n",
      " [  1.39102769e+00]\n",
      " [  1.32484984e+00]\n",
      " [  1.25983679e+00]\n",
      " [  1.19574237e+00]\n",
      " [  1.13233221e+00]\n",
      " [  1.06938303e+00]\n",
      " [  1.00669742e+00]\n",
      " [  9.44119632e-01]\n",
      " [  8.81531417e-01]\n",
      " [  8.18884552e-01]\n",
      " [  7.56198168e-01]\n",
      " [  6.93582058e-01]\n",
      " [  6.31239235e-01]\n",
      " [  5.69480836e-01]\n",
      " [  5.08718967e-01]\n",
      " [  4.49464083e-01]\n",
      " [  3.92305315e-01]\n",
      " [  3.37882638e-01]\n",
      " [  2.86844313e-01]\n",
      " [  2.39800721e-01]\n",
      " [  1.97268635e-01]\n",
      " [  1.59622312e-01]\n",
      " [  1.27052858e-01]\n",
      " [  9.95460823e-02]\n",
      " [  7.68848732e-02]\n",
      " [  5.86759932e-02]\n",
      " [  4.43967730e-02]\n",
      " [  3.34538482e-02]\n",
      " [  2.52415854e-02]\n",
      " [  1.91915184e-02]\n",
      " [  1.48055339e-02]\n",
      " [  1.16723059e-02]\n",
      " [  9.46928095e-03]\n",
      " [  7.95499049e-03]\n",
      " [  6.95688929e-03]\n",
      " [  6.35840837e-03]\n",
      " [  6.08791877e-03]\n",
      " [  6.11049868e-03]\n",
      " [  6.42314274e-03]\n",
      " [  7.05302600e-03]\n",
      " [  8.05860106e-03]\n",
      " [  9.53287911e-03]\n",
      " [  1.16082476e-02]\n",
      " [  1.44614885e-02]\n",
      " [  1.83179490e-02]\n",
      " [  2.34529004e-02]\n",
      " [  3.01890112e-02]\n",
      " [  3.88890356e-02]\n",
      " [  4.99441326e-02]\n",
      " [  6.37591928e-02]\n",
      " [  8.07376280e-02]\n",
      " [  1.01268806e-01]\n",
      " [  1.25719920e-01]\n",
      " [  1.54432893e-01]\n",
      " [  1.87729090e-01]\n",
      " [  2.25915074e-01]\n",
      " [  2.69294113e-01]\n",
      " [  3.18176955e-01]\n",
      " [  3.72891039e-01]\n",
      " [  4.33786750e-01]\n",
      " [  5.01240909e-01]\n",
      " [  5.75659215e-01]\n",
      " [  6.57469332e-01]\n",
      " [  7.47117400e-01]\n",
      " [  8.45056534e-01]\n",
      " [  9.51739788e-01]\n",
      " [  1.06760025e+00]\n",
      " [  1.19304657e+00]\n",
      " [  1.32844639e+00]\n",
      " [  1.47410643e+00]\n",
      " [  1.63026762e+00]\n",
      " [  1.79709017e+00]\n",
      " [  1.97464013e+00]\n",
      " [  2.16288805e+00]\n",
      " [  2.36169529e+00]\n",
      " [  2.57081175e+00]\n",
      " [  2.78987789e+00]\n",
      " [  3.01841688e+00]\n",
      " [  3.25584173e+00]\n",
      " [  3.50148916e+00]\n",
      " [  3.75455904e+00]\n",
      " [  4.01419640e+00]\n",
      " [  4.27946281e+00]\n",
      " [  4.54937363e+00]\n",
      " [  4.82286692e+00]\n",
      " [  5.09888792e+00]\n",
      " [  5.37632751e+00]\n",
      " [  5.65409374e+00]\n",
      " [  5.93111134e+00]\n",
      " [  6.20630932e+00]\n",
      " [  6.47864771e+00]\n",
      " [  6.74717093e+00]\n",
      " [  7.01094437e+00]\n",
      " [  7.26908922e+00]\n",
      " [  7.52083588e+00]\n",
      " [  7.76545477e+00]\n",
      " [  8.00229454e+00]\n",
      " [  8.23080158e+00]\n",
      " [  8.45052433e+00]\n",
      " [  8.66102886e+00]\n",
      " [  8.86203766e+00]\n",
      " [  9.05325413e+00]\n",
      " [  9.23454762e+00]\n",
      " [  9.40583420e+00]\n",
      " [  9.56705379e+00]\n",
      " [  9.71824646e+00]\n",
      " [  9.85951900e+00]\n",
      " [  9.99096870e+00]\n",
      " [  1.01127911e+01]\n",
      " [  1.02252398e+01]\n",
      " [  1.03285170e+01]\n",
      " [  1.04229498e+01]\n",
      " [  1.05088263e+01]\n",
      " [  1.05864992e+01]\n",
      " [  1.06562977e+01]\n",
      " [  1.07185907e+01]\n",
      " [  1.07737322e+01]\n",
      " [  1.08221264e+01]\n",
      " [  1.08641119e+01]\n",
      " [  1.09000854e+01]\n",
      " [  1.09304085e+01]\n",
      " [  1.09554415e+01]\n",
      " [  1.09755821e+01]\n",
      " [  1.09911270e+01]\n",
      " [  1.10024509e+01]\n",
      " [  1.10098925e+01]\n",
      " [  1.10137329e+01]\n",
      " [  1.10143185e+01]\n",
      " [  1.10119009e+01]\n",
      " [  1.10068007e+01]\n",
      " [  1.09992790e+01]\n",
      " [  1.09895496e+01]\n",
      " [  1.09779148e+01]\n",
      " [  1.09645557e+01]\n",
      " [  1.09497042e+01]\n",
      " [  1.09335775e+01]\n",
      " [  1.09163342e+01]]\n"
     ]
    }
   ],
   "source": [
    "print out_sigma\n"
   ]
  },
  {
   "cell_type": "code",
   "execution_count": 67,
   "metadata": {
    "collapsed": true
   },
   "outputs": [],
   "source": [
    "# out_mus = np.reshape(out_mus,(-1,1))\n",
    "# out_sigma = np.reshape(out_sigma,(-1,1))\n",
    "# out_pis = np.reshape(out_pis,(-1,1))"
   ]
  },
  {
   "cell_type": "code",
   "execution_count": 68,
   "metadata": {
    "collapsed": true
   },
   "outputs": [],
   "source": [
    "# print np.reshape(out_mus[0],(-1,1))\n",
    "# print out_sigma.shape\n",
    "# print out_pis.shape"
   ]
  },
  {
   "cell_type": "code",
   "execution_count": null,
   "metadata": {
    "collapsed": true
   },
   "outputs": [],
   "source": []
  },
  {
   "cell_type": "code",
   "execution_count": 69,
   "metadata": {
    "collapsed": true,
    "scrolled": false
   },
   "outputs": [],
   "source": [
    "mean_out, var_out = model.predict(np.expand_dims(x_test,axis=1))"
   ]
  },
  {
   "cell_type": "code",
   "execution_count": 70,
   "metadata": {},
   "outputs": [
    {
     "name": "stdout",
     "output_type": "stream",
     "text": [
      "(200,)\n",
      "(200,)\n"
     ]
    }
   ],
   "source": [
    "# ? = np.array(var_out).ravel()\n",
    "print mean_out.flatten().shape\n",
    "print x_test.shape"
   ]
  },
  {
   "cell_type": "code",
   "execution_count": 71,
   "metadata": {
    "scrolled": true
   },
   "outputs": [
    {
     "data": {
      "text/plain": [
       "<matplotlib.text.Text at 0x1366d2a50>"
      ]
     },
     "execution_count": 71,
     "metadata": {},
     "output_type": "execute_result"
    },
    {
     "data": {
      "image/png": "[encoded data removed]",
      "text/plain": [
       "<matplotlib.figure.Figure at 0x1399f1d10>"
      ]
     },
     "metadata": {},
     "output_type": "display_data"
    }
   ],
   "source": [
    "stddev = 3.0#1.9600 #3.0\n",
    "\n",
    "fig2 = plt.figure(2, figsize=(8,8))\n",
    "# plt.xlim([0,12])\n",
    "# plt.ylim([-7.5,3.0])\n",
    "plt.xlim([-7.5,7.5])\n",
    "ax = fig2.add_subplot(111)\n",
    "\n",
    "std = [float(np.sqrt(sig[0])) for sig in var_out]\n",
    "ypl = [float(mu-stddev*np.sqrt(sig[0])) for mu,sig in zip(mean_out,var_out)]\n",
    "yph = [float(mu+stddev*np.sqrt(sig[0])) for mu,sig in zip(mean_out,var_out)]\n",
    "\n",
    "\n",
    "ax.plot(x_true, y_true, 'dodgerblue', linewidth=3.0)\n",
    "\n",
    "\n",
    "ax.fill_between(x_test.tolist(), ypl, yph, facecolor='grey', interpolate=True, alpha=0.9)\n",
    "\n",
    "ax.plot(x_test.flatten(), mean_out.flatten(), color='b', linewidth=2.5)\n",
    "\n",
    "colours = ['g','c','k','m','y']\n",
    "\n",
    "# for k in range(network_params['n_ensembles']):\n",
    "#     y_em = np.reshape(out_mus[k],(-1,))\n",
    "#     ax.plot(x_test, y_em, color=(np.random.rand(),np.random.rand(),np.random.rand()),linewidth=0.5)\n",
    "\n",
    "# plt.scatter(x_train,y_train)\n",
    "ax.plot(x_train, y_train, 'ro')\n",
    "\n",
    "plt.xlabel(\"h\")\n",
    "plt.ylabel(\"y\")\n",
    "\n",
    "error = np.sqrt(np.mean(np.square(mean_out.flatten()-y_true)))\n",
    "plt.title(\"MDN predictions (RMS: %0.3f)\"%(error,))\n",
    "# plt.figure(3)\n",
    "# ax2 = fig.add_subplot(212)\n",
    "\n",
    "# plt.plot(x_test, std, color='g')\n",
    "\n",
    "# plt.show()"
   ]
  },
  {
   "cell_type": "code",
   "execution_count": null,
   "metadata": {
    "collapsed": true
   },
   "outputs": [],
   "source": []
  },
  {
   "cell_type": "code",
   "execution_count": null,
   "metadata": {
    "collapsed": true
   },
   "outputs": [],
   "source": []
  },
  {
   "cell_type": "code",
   "execution_count": null,
   "metadata": {
    "collapsed": true
   },
   "outputs": [],
   "source": []
  }
 ],
 "metadata": {
  "kernelspec": {
   "display_name": "Python 2",
   "language": "python",
   "name": "python2"
  },
  "language_info": {
   "codemirror_mode": {
    "name": "ipython",
    "version": 2
   },
   "file_extension": ".py",
   "mimetype": "text/x-python",
   "name": "python",
   "nbconvert_exporter": "python",
   "pygments_lexer": "ipython2",
   "version": "2.7.10"
  }
 },
 "nbformat": 4,
 "nbformat_minor": 1
}
