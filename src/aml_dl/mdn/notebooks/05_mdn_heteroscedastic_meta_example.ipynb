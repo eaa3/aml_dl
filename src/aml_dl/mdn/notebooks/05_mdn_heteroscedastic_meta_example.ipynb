{
 "cells": [
  {
   "cell_type": "markdown",
   "metadata": {
    "collapsed": true
   },
   "source": [
    "### Deep Ensamble MDN Toy Example ###"
   ]
  },
  {
   "cell_type": "markdown",
   "metadata": {},
   "source": [
    "\"We use the same network architecture: 1-hidden layer neural network with ReLU nonlinearity (Nair and Hinton, 2010), containing 50 hidden units for smaller datasets and 100 hidden units for the larger protein and Year Prediction MSD datasets\""
   ]
  },
  {
   "cell_type": "markdown",
   "metadata": {},
   "source": [
    "\"We trained for 40 epochs; we refer to (Herna ́ndez-Lobato and Adams, 2015) for further details about the datasets and the experimental protocol. We used 5 networks in our ensemble. Our results are shown in Table 1, along with the PBP and MC-dropout results reported in their respective papers\""
   ]
  },
  {
   "cell_type": "markdown",
   "metadata": {},
   "source": [
    "\"On some datasets, we observe that our method is slightly worse in terms of RMSE. We believe that this might be caused due to the het- eroscedastic regression training criterion, which optimises for NLL instead of MSE as discussed in the toy example in Figure 3.\""
   ]
  },
  {
   "cell_type": "code",
   "execution_count": 1,
   "metadata": {},
   "outputs": [],
   "source": [
    "%load_ext autoreload"
   ]
  },
  {
   "cell_type": "code",
   "execution_count": 2,
   "metadata": {
    "collapsed": true
   },
   "outputs": [],
   "source": [
    "%autoreload 2"
   ]
  },
  {
   "cell_type": "code",
   "execution_count": 3,
   "metadata": {},
   "outputs": [
    {
     "name": "stderr",
     "output_type": "stream",
     "text": [
      "/Users/ermanoarruda/virtualenvs/robotics/lib/python2.7/site-packages/matplotlib/font_manager.py:273: UserWarning: Matplotlib is building the font cache using fc-list. This may take a moment.\n",
      "  warnings.warn('Matplotlib is building the font cache using fc-list. This may take a moment.')\n"
     ]
    }
   ],
   "source": [
    "%matplotlib inline"
   ]
  },
  {
   "cell_type": "code",
   "execution_count": 4,
   "metadata": {
    "collapsed": true,
    "scrolled": true
   },
   "outputs": [],
   "source": [
    "import os\n",
    "import copy\n",
    "import random\n",
    "import numpy as np\n",
    "import tensorflow as tf\n",
    "import matplotlib.pyplot as plt\n",
    "from aml_dl.mdn.model.mdn import MDN\n",
    "\n",
    "from aml_dl.gp.simple_gp import GaussianProcess, kernel\n",
    "\n",
    "from IPython import display\n",
    "import time"
   ]
  },
  {
   "cell_type": "markdown",
   "metadata": {},
   "source": [
    "## Configs"
   ]
  },
  {
   "cell_type": "code",
   "execution_count": 5,
   "metadata": {
    "collapsed": true
   },
   "outputs": [],
   "source": [
    "EXP_NAME = 'exp_ensemble'\n",
    "\n",
    "\n",
    "adam_params = {\n",
    "    'type': 'adam',\n",
    "    'params': {'learning_rate' : 0.001, 'beta1': 0.9, 'beta2': 0.999, 'epsilon': 1e-08, 'use_locking': False}\n",
    "}\n",
    "\n",
    "network_params = {\n",
    "    'dim_input': 1, \n",
    "    'dim_output': 1,\n",
    "    'n_hidden': [100],#[20,20,10],\n",
    "    'k_mixtures': 1,\n",
    "    'write_summary': False,\n",
    "    'load_saved_model': False,\n",
    "#     'model_dir': check_point_dir + '/inv/',\n",
    "#     'model_name':'ensemble_model_inv_10_kernels.ckpt',\n",
    "    'optimiser': adam_params,\n",
    "#     'summary_dir':summary_dir+'/inv/',\n",
    "    'device': '/cpu:0',\n",
    "    'adv_epsilon': 0.01,\n",
    "    'reg_lambda': 0.01\n",
    "}"
   ]
  },
  {
   "cell_type": "code",
   "execution_count": 6,
   "metadata": {
    "collapsed": true
   },
   "outputs": [],
   "source": [
    "tf.set_random_seed(42)\n",
    "np.random.seed(seed=42)\n",
    "sess = tf.InteractiveSession()"
   ]
  },
  {
   "cell_type": "code",
   "execution_count": 7,
   "metadata": {
    "collapsed": true
   },
   "outputs": [],
   "source": [
    "model = MDN(sess,network_params)\n",
    "model.init_model()"
   ]
  },
  {
   "cell_type": "code",
   "execution_count": 8,
   "metadata": {
    "collapsed": true
   },
   "outputs": [],
   "source": [
    "noise_level = 0.1#0.00000001;\n",
    "width = 1.0 # 0.5\n",
    "scale = 30 # 30\n",
    "\n",
    "\n",
    "gp = GaussianProcess(noise_level, width, scale, kernel)"
   ]
  },
  {
   "cell_type": "markdown",
   "metadata": {
    "collapsed": true
   },
   "source": [
    "## Prepare data"
   ]
  },
  {
   "cell_type": "code",
   "execution_count": 9,
   "metadata": {
    "collapsed": true
   },
   "outputs": [],
   "source": [
    "def fun_h(t, noise_gain=0.):\n",
    "    if len(t.shape) > 1:\n",
    "        noise = noise_gain*np.random.randn(t.shape[0],t.shape[1])\n",
    "    else:\n",
    "        noise = noise_gain*np.random.randn(t.shape[0])\n",
    "    return np.cos(2*t - 1/2)/2 + np.cos(t) + 1 + noise\n",
    "\n",
    "def fun_poly(t, noise_gain=0.):\n",
    "    if len(t.shape) > 1:\n",
    "        noise = noise_gain*np.random.randn(t.shape[0],t.shape[1])\n",
    "    else:\n",
    "        noise = noise_gain*np.random.randn(t.shape[0])\n",
    "    return -0.01*(t ** 3) + np.square(t)*0.01 + noise\n",
    "\n",
    "def fun_cubic_poly(t, noise_gain=0.):\n",
    "    if len(t.shape) > 1:\n",
    "        noise = noise_gain*np.random.randn(t.shape[0],t.shape[1])\n",
    "    else:\n",
    "        noise = noise_gain*np.random.randn(t.shape[0])\n",
    "    return 0.01*(t ** 3) + 0.01*noise\n",
    "\n",
    "# *\n",
    "def fun_s(t, noise_gain=0.):\n",
    "    if len(t.shape) > 1:\n",
    "        noise = noise_gain*np.random.randn(t.shape[0],t.shape[1])\n",
    "    else:\n",
    "        noise = noise_gain*np.random.randn(t.shape[0])\n",
    "    return (t-8) ** 3 - 5 * (t - 8)\n",
    "\n",
    "def fun_c(t, noise_gain=0.0):\n",
    "    if len(t.shape) > 1:\n",
    "        noise = noise_gain*np.random.randn(t.shape[0],t.shape[1])\n",
    "    else:\n",
    "        noise = noise_gain*np.random.randn(t.shape[0])\n",
    "        \n",
    "    return t * np.cos(t) + noise\n",
    "\n",
    "def fun_g(t, noise_gain=0.):\n",
    "    if len(t.shape) > 1:\n",
    "        noise = noise_gain*np.random.randn(t.shape[0],t.shape[1])\n",
    "    else:\n",
    "        noise = noise_gain*np.random.randn(t.shape[0])\n",
    "    noise = noise_gain*np.random.randn(d1, d2)\n",
    "    return np.divide(np.power(np.multiply((np.sin(t) - np.sin(2*t)/2 + np.sin(3*t)/3. - \n",
    "                                           np.sin(4*t)/4. + 4),t),2),(t+1)) + noise\n",
    "\n",
    "def sawtoothxy(x,y):\n",
    "    t, r = cart2pol(x,y) # change to polar coordinates\n",
    "    h = fun_h(t)\n",
    "    g = fun_g(r)\n",
    "    f = np.multiply(g,h)\n",
    "    return f\n",
    "\n",
    "\n",
    "def f_heteroscedastic(X, std = 1.0):\n",
    "    # target function is just a linear relationship + heteroscadastic noise\n",
    "    return X + std*np.random.multivariate_normal(np.zeros(X.shape[0]),\n",
    "                                                 np.diag(X**2), 1)[0]\n",
    "\n",
    "func_y = f_heteroscedastic"
   ]
  },
  {
   "cell_type": "code",
   "execution_count": 30,
   "metadata": {},
   "outputs": [
    {
     "data": {
      "text/plain": [
       "<matplotlib.text.Text at 0x13ade9190>"
      ]
     },
     "execution_count": 30,
     "metadata": {},
     "output_type": "execute_result"
    },
    {
     "data": {
      "image/png": "[encoded data removed]",
      "text/plain": [
       "<matplotlib.figure.Figure at 0x111c85490>"
      ]
     },
     "metadata": {},
     "output_type": "display_data"
    }
   ],
   "source": [
    "num_data_points = 200 # 1000\n",
    "x_values = np.random.uniform(-7.5, 7.5, num_data_points)  # input data\n",
    "y_values = func_y(x_values, 0.5)\n",
    "\n",
    "x_true = np.linspace(-7.5,7.5, num_data_points)\n",
    "y_true = np.linspace(-7.5,7.5, num_data_points)\n",
    "\n",
    "x_test = x_true\n",
    "\n",
    "train_idx = np.logical_or(x_values < -2, x_values > 2)#np.arange(num_data_points)#np.random.choice(np.arange(300,1650),20)\n",
    "\n",
    "# plt.plot(x_values, y_values, 'dodgerblue', linewidth=3.0)\n",
    "plt.plot(x_values[train_idx], y_values[train_idx], 'ro')\n",
    "plt.xlabel(\"h\")\n",
    "plt.ylabel(\"y\")\n",
    "# print x_values[300:1450]\n",
    "# print y_values[300:1450]"
   ]
  },
  {
   "cell_type": "code",
   "execution_count": 11,
   "metadata": {
    "collapsed": true
   },
   "outputs": [],
   "source": [
    "# x_train = np.vstack([x_values[200:400,None],x_values[750:1000,None],x_values[1250:1450,None]])\n",
    "# y_train = np.vstack([y_values[200:400,None],y_values[750:1000,None],y_values[1250:1450,None]])"
   ]
  },
  {
   "cell_type": "code",
   "execution_count": 12,
   "metadata": {
    "collapsed": true
   },
   "outputs": [],
   "source": [
    "x_train = np.vstack([x_values[train_idx,None]])\n",
    "y_train = np.vstack([y_values[train_idx,None]])"
   ]
  },
  {
   "cell_type": "code",
   "execution_count": 13,
   "metadata": {
    "collapsed": true
   },
   "outputs": [],
   "source": [
    "for x, y in zip(x_train,y_train):\n",
    "    gp.update(x, y)"
   ]
  },
  {
   "cell_type": "code",
   "execution_count": 14,
   "metadata": {
    "collapsed": true
   },
   "outputs": [],
   "source": [
    "pred, cov, logp = gp.predict3(x_test)\n",
    "std = np.diagonal(cov)"
   ]
  },
  {
   "cell_type": "code",
   "execution_count": 15,
   "metadata": {
    "collapsed": true
   },
   "outputs": [],
   "source": [
    "sample_posterior = gp.sample_multivariate(pred, cov, len(pred), 5)"
   ]
  },
  {
   "cell_type": "code",
   "execution_count": 16,
   "metadata": {
    "scrolled": true
   },
   "outputs": [
    {
     "data": {
      "text/plain": [
       "[<matplotlib.lines.Line2D at 0x10e7660d0>]"
      ]
     },
     "execution_count": 16,
     "metadata": {},
     "output_type": "execute_result"
    },
    {
     "data": {
      "image/png": "[encoded data removed]",
      "text/plain": [
       "<matplotlib.figure.Figure at 0x13891ea10>"
      ]
     },
     "metadata": {},
     "output_type": "display_data"
    }
   ],
   "source": [
    "fig2 = plt.figure(2, figsize=(8,8))\n",
    "plt.errorbar(x_test, pred, yerr=np.sqrt(std)*3.0, fmt='r-', ecolor='g', elinewidth=0.25, linewidth=3.5)\n",
    "plt.plot(x_test, y_true, 'dodgerblue', linewidth=3.0)\n",
    "# plt.plot(x_values, sample_posterior)\n",
    "# plt.xlim([0,12])\n",
    "# plt.ylim([-0,3.0])\n",
    "plt.plot(gp.x, gp.y, 'ro')"
   ]
  },
  {
   "cell_type": "code",
   "execution_count": 17,
   "metadata": {
    "scrolled": true
   },
   "outputs": [
    {
     "data": {
      "text/plain": [
       "<matplotlib.text.Text at 0x13a94d350>"
      ]
     },
     "execution_count": 17,
     "metadata": {},
     "output_type": "execute_result"
    },
    {
     "data": {
      "image/png": "[encoded data removed]",
      "text/plain": [
       "<matplotlib.figure.Figure at 0x13a530390>"
      ]
     },
     "metadata": {},
     "output_type": "display_data"
    }
   ],
   "source": [
    "stddev = 3.0 #3.0\n",
    "fig = plt.figure(figsize=(10,10))\n",
    "ax = fig.add_subplot(211)\n",
    "ypl = [float(mu-stddev*np.sqrt(sig)) for mu,sig in zip(pred,std)]\n",
    "yph = [float(mu+stddev*np.sqrt(sig)) for mu,sig in zip(pred,std)]\n",
    "\n",
    "# ax.plot(x_true, y_true, color='r')\n",
    "plt.plot(x_test, y_true, 'dodgerblue', linewidth=3.0)\n",
    "\n",
    "ax.fill_between(x_true.tolist(), ypl, yph, facecolor='grey', interpolate=True, alpha=0.9)\n",
    "plt.plot(gp.x, gp.y, 'ro')\n",
    "plt.plot(x_test, pred, color='b', linewidth=2.5)\n",
    "plt.xlabel(\"h\")\n",
    "plt.ylabel(\"y\")\n",
    "\n",
    "error = np.sqrt(np.mean(np.square(pred-y_true)))\n",
    "plt.title(\"GP predictions (RMS: %0.3f)\"%(error,))\n",
    "\n",
    "# ax2 = fig.add_subplot(212)\n",
    "\n",
    "# ax2.plot(x_true, np.sqrt(std)*stddev, color='g')"
   ]
  },
  {
   "cell_type": "code",
   "execution_count": 18,
   "metadata": {
    "scrolled": false
   },
   "outputs": [
    {
     "data": {
      "image/png": "[encoded data removed]",
      "text/plain": [
       "<matplotlib.figure.Figure at 0x13a48c690>"
      ]
     },
     "metadata": {},
     "output_type": "display_data"
    }
   ],
   "source": [
    "plt.figure()\n",
    "plt.scatter(x_train,y_train)\n",
    "plt.plot(x_true,y_true)\n",
    "plt.show()"
   ]
  },
  {
   "cell_type": "code",
   "execution_count": 19,
   "metadata": {
    "collapsed": true
   },
   "outputs": [],
   "source": [
    "iterations = 40"
   ]
  },
  {
   "cell_type": "code",
   "execution_count": 20,
   "metadata": {
    "collapsed": true,
    "scrolled": true
   },
   "outputs": [],
   "source": [
    "mean_loss = []\n",
    "for i in range(40):\n",
    "    loss = model.train(x_train, y_train, iterations)\n",
    "\n",
    "#     fig, mloss = test_and_plot(i, loss)\n",
    "#     mean_loss.append(np.mean(mloss))\n",
    "#     ax2 = fig.add_subplot(414)\n",
    "#     ax2.plot(mean_loss, 'r-')\n",
    "    \n",
    "#     display.display(plt.gcf())\n",
    "#     display.clear_output(wait=True)\n",
    "#     time.sleep(0.001)\n",
    "    \n",
    "# ax = fig2.add_subplot(212)\n",
    "#  ax.plot(np.arange(100, iterations,1), loss[0, 100:], 'r-')"
   ]
  },
  {
   "cell_type": "markdown",
   "metadata": {},
   "source": [
    "## Test"
   ]
  },
  {
   "cell_type": "code",
   "execution_count": 21,
   "metadata": {
    "collapsed": true
   },
   "outputs": [],
   "source": [
    "x_test = x_true#np.linspace(0, 12, num_data_points)\n",
    "y_test = y_values #fun_h(x_test, 0.0)"
   ]
  },
  {
   "cell_type": "code",
   "execution_count": 22,
   "metadata": {
    "collapsed": true
   },
   "outputs": [],
   "source": [
    "out_mus = model.run_op('mu', np.expand_dims(x_test,axis=1))\n",
    "out_sigma = model.run_op('sigma', np.expand_dims(x_test,axis=1))\n",
    "out_pis = model.run_op('pi', np.expand_dims(x_test,axis=1))"
   ]
  },
  {
   "cell_type": "code",
   "execution_count": 23,
   "metadata": {},
   "outputs": [
    {
     "name": "stdout",
     "output_type": "stream",
     "text": [
      "[[  8.38068676]\n",
      " [  8.35335541]\n",
      " [  8.32290745]\n",
      " [  8.28926373]\n",
      " [  8.25237751]\n",
      " [  8.21215343]\n",
      " [  8.16853714]\n",
      " [  8.12143993]\n",
      " [  8.07081699]\n",
      " [  8.0165844 ]\n",
      " [  7.95871162]\n",
      " [  7.89711905]\n",
      " [  7.83176756]\n",
      " [  7.76260948]\n",
      " [  7.68959856]\n",
      " [  7.61269379]\n",
      " [  7.5318737 ]\n",
      " [  7.44710684]\n",
      " [  7.35836267]\n",
      " [  7.2656455 ]\n",
      " [  7.16892958]\n",
      " [  7.06823635]\n",
      " [  6.96356773]\n",
      " [  6.85494709]\n",
      " [  6.74240541]\n",
      " [  6.62596941]\n",
      " [  6.50571251]\n",
      " [  6.38167572]\n",
      " [  6.25394726]\n",
      " [  6.122612  ]\n",
      " [  5.98778439]\n",
      " [  5.84956837]\n",
      " [  5.70810509]\n",
      " [  5.56354856]\n",
      " [  5.41605425]\n",
      " [  5.26582718]\n",
      " [  5.11305141]\n",
      " [  4.95796108]\n",
      " [  4.80078745]\n",
      " [  4.64180183]\n",
      " [  4.4812808 ]\n",
      " [  4.3195219 ]\n",
      " [  4.15683556]\n",
      " [  3.99355459]\n",
      " [  3.83004737]\n",
      " [  3.66665721]\n",
      " [  3.50376558]\n",
      " [  3.34176588]\n",
      " [  3.18105984]\n",
      " [  3.02203894]\n",
      " [  2.86511016]\n",
      " [  2.71066976]\n",
      " [  2.55912399]\n",
      " [  2.4108479 ]\n",
      " [  2.26622081]\n",
      " [  2.12559438]\n",
      " [  1.98929739]\n",
      " [  1.85763574]\n",
      " [  1.73088324]\n",
      " [  1.60927224]\n",
      " [  1.49301052]\n",
      " [  1.38225532]\n",
      " [  1.27712417]\n",
      " [  1.17769599]\n",
      " [  1.08400238]\n",
      " [  0.99602985]\n",
      " [  0.91372842]\n",
      " [  0.83700621]\n",
      " [  0.76573217]\n",
      " [  0.69974518]\n",
      " [  0.63885117]\n",
      " [  0.58283186]\n",
      " [  0.53144717]\n",
      " [  0.48443875]\n",
      " [  0.44153765]\n",
      " [  0.40246463]\n",
      " [  0.36693782]\n",
      " [  0.33467466]\n",
      " [  0.30539644]\n",
      " [  0.27883047]\n",
      " [  0.25471488]\n",
      " [  0.23279944]\n",
      " [  0.21285078]\n",
      " [  0.19465099]\n",
      " [  0.17800322]\n",
      " [  0.16273098]\n",
      " [  0.14868051]\n",
      " [  0.13572086]\n",
      " [  0.12374393]\n",
      " [  0.11266314]\n",
      " [  0.10241193]\n",
      " [  0.09294103]\n",
      " [  0.08421449]\n",
      " [  0.07620638]\n",
      " [  0.06889663]\n",
      " [  0.06226756]\n",
      " [  0.05630099]\n",
      " [  0.05097649]\n",
      " [  0.04627018]\n",
      " [  0.04215477]\n",
      " [  0.0386005 ]\n",
      " [  0.03557604]\n",
      " [  0.03305067]\n",
      " [  0.03099568]\n",
      " [  0.02938648]\n",
      " [  0.02820425]\n",
      " [  0.02743784]\n",
      " [  0.02708552]\n",
      " [  0.02715683]\n",
      " [  0.02767494]\n",
      " [  0.02867918]\n",
      " [  0.03022846]\n",
      " [  0.03240498]\n",
      " [  0.03531986]\n",
      " [  0.03911911]\n",
      " [  0.04399149]\n",
      " [  0.05017779]\n",
      " [  0.05798168]\n",
      " [  0.06778263]\n",
      " [  0.08004901]\n",
      " [  0.0953538 ]\n",
      " [  0.11438891]\n",
      " [  0.1379794 ]\n",
      " [  0.16709554]\n",
      " [  0.20286103]\n",
      " [  0.2465542 ]\n",
      " [  0.29960424]\n",
      " [  0.3635734 ]\n",
      " [  0.44013512]\n",
      " [  0.53103393]\n",
      " [  0.63803822]\n",
      " [  0.76288038]\n",
      " [  0.90718979]\n",
      " [  1.07242906]\n",
      " [  1.2598033 ]\n",
      " [  1.47021484]\n",
      " [  1.70418537]\n",
      " [  1.96181655]\n",
      " [  2.24274492]\n",
      " [  2.54614902]\n",
      " [  2.87072039]\n",
      " [  3.21471953]\n",
      " [  3.5759809 ]\n",
      " [  3.95199919]\n",
      " [  4.33996439]\n",
      " [  4.73685598]\n",
      " [  5.13951445]\n",
      " [  5.54470253]\n",
      " [  5.94922447]\n",
      " [  6.3499341 ]\n",
      " [  6.74385548]\n",
      " [  7.12820768]\n",
      " [  7.50043488]\n",
      " [  7.85826731]\n",
      " [  8.19973373]\n",
      " [  8.52313042]\n",
      " [  8.82711124]\n",
      " [  9.11062336]\n",
      " [  9.37290001]\n",
      " [  9.61341286]\n",
      " [  9.83196735]\n",
      " [ 10.02854633]\n",
      " [ 10.20335865]\n",
      " [ 10.35678864]\n",
      " [ 10.48936939]\n",
      " [ 10.60180092]\n",
      " [ 10.69485664]\n",
      " [ 10.76940727]\n",
      " [ 10.82637882]\n",
      " [ 10.86677742]\n",
      " [ 10.8915844 ]\n",
      " [ 10.90185452]\n",
      " [ 10.89858246]\n",
      " [ 10.88279533]\n",
      " [ 10.85550117]\n",
      " [ 10.81768608]\n",
      " [ 10.77023411]\n",
      " [ 10.71409416]\n",
      " [ 10.65013313]\n",
      " [ 10.5791626 ]\n",
      " [ 10.50194359]\n",
      " [ 10.41922092]\n",
      " [ 10.33166218]\n",
      " [ 10.23993587]\n",
      " [ 10.1446209 ]\n",
      " [ 10.04627419]\n",
      " [  9.94539738]\n",
      " [  9.84247684]\n",
      " [  9.73792076]\n",
      " [  9.63213539]\n",
      " [  9.52550125]\n",
      " [  9.41832924]\n",
      " [  9.31089687]\n",
      " [  9.20349216]\n",
      " [  9.09636879]\n",
      " [  8.9897089 ]\n",
      " [  8.88373375]\n",
      " [  8.77860928]\n",
      " [  8.67447758]\n",
      " [  8.57148552]]\n"
     ]
    }
   ],
   "source": [
    "print out_sigma\n"
   ]
  },
  {
   "cell_type": "code",
   "execution_count": 24,
   "metadata": {
    "collapsed": true
   },
   "outputs": [],
   "source": [
    "# out_mus = np.reshape(out_mus,(-1,1))\n",
    "# out_sigma = np.reshape(out_sigma,(-1,1))\n",
    "# out_pis = np.reshape(out_pis,(-1,1))"
   ]
  },
  {
   "cell_type": "code",
   "execution_count": 25,
   "metadata": {
    "collapsed": true
   },
   "outputs": [],
   "source": [
    "# print np.reshape(out_mus[0],(-1,1))\n",
    "# print out_sigma.shape\n",
    "# print out_pis.shape"
   ]
  },
  {
   "cell_type": "code",
   "execution_count": null,
   "metadata": {
    "collapsed": true
   },
   "outputs": [],
   "source": []
  },
  {
   "cell_type": "code",
   "execution_count": 26,
   "metadata": {
    "collapsed": true,
    "scrolled": false
   },
   "outputs": [],
   "source": [
    "mean_out, var_out = model.predict(np.expand_dims(x_test,axis=1))"
   ]
  },
  {
   "cell_type": "code",
   "execution_count": 27,
   "metadata": {},
   "outputs": [
    {
     "name": "stdout",
     "output_type": "stream",
     "text": [
      "(200,)\n",
      "(200,)\n"
     ]
    }
   ],
   "source": [
    "# ? = np.array(var_out).ravel()\n",
    "print mean_out.flatten().shape\n",
    "print x_test.shape"
   ]
  },
  {
   "cell_type": "code",
   "execution_count": 28,
   "metadata": {
    "scrolled": true
   },
   "outputs": [
    {
     "data": {
      "image/png": "[encoded data removed]",
      "text/plain": [
       "<matplotlib.figure.Figure at 0x13a0d9090>"
      ]
     },
     "metadata": {},
     "output_type": "display_data"
    }
   ],
   "source": [
    "stddev = 3.0#1.9600 #3.0\n",
    "\n",
    "fig2 = plt.figure(2, figsize=(8,8))\n",
    "# plt.xlim([0,12])\n",
    "# plt.ylim([-7.5,3.0])\n",
    "plt.xlim([-7.5,7.5])\n",
    "ax = fig2.add_subplot(111)\n",
    "\n",
    "std = [float(np.sqrt(sig[0])) for sig in var_out]\n",
    "ypl = [float(mu-stddev*np.sqrt(sig[0])) for mu,sig in zip(mean_out,var_out)]\n",
    "yph = [float(mu+stddev*np.sqrt(sig[0])) for mu,sig in zip(mean_out,var_out)]\n",
    "\n",
    "\n",
    "ax.plot(x_true, y_true, 'dodgerblue', linewidth=3.0)\n",
    "\n",
    "\n",
    "ax.fill_between(x_test.tolist(), ypl, yph, facecolor='grey', interpolate=True, alpha=0.9)\n",
    "\n",
    "ax.plot(x_test.flatten(), mean_out.flatten(), color='b', linewidth=2.5)\n",
    "\n",
    "colours = ['g','c','k','m','y']\n",
    "\n",
    "# for k in range(network_params['n_ensembles']):\n",
    "#     y_em = np.reshape(out_mus[k],(-1,))\n",
    "#     ax.plot(x_test, y_em, color=(np.random.rand(),np.random.rand(),np.random.rand()),linewidth=0.5)\n",
    "\n",
    "# plt.scatter(x_train,y_train)\n",
    "ax.plot(x_train, y_train, 'ro')\n",
    "\n",
    "plt.xlabel(\"h\")\n",
    "plt.ylabel(\"y\")\n",
    "\n",
    "error = np.sqrt(np.mean(np.square(mean_out.flatten()-y_true)))\n",
    "plt.title(\"MDN predictions (RMS: %0.3f)\"%(error,))\n",
    "\n",
    "\n",
    "# plt.figure(3)\n",
    "# # ax2 = fig.add_subplot(212)\n",
    "\n",
    "# plt.plot(x_test, std, color='g')\n",
    "\n",
    "plt.show()"
   ]
  },
  {
   "cell_type": "code",
   "execution_count": null,
   "metadata": {
    "collapsed": true
   },
   "outputs": [],
   "source": []
  },
  {
   "cell_type": "code",
   "execution_count": null,
   "metadata": {
    "collapsed": true
   },
   "outputs": [],
   "source": []
  },
  {
   "cell_type": "code",
   "execution_count": null,
   "metadata": {
    "collapsed": true
   },
   "outputs": [],
   "source": []
  }
 ],
 "metadata": {
  "kernelspec": {
   "display_name": "Python 2",
   "language": "python",
   "name": "python2"
  },
  "language_info": {
   "codemirror_mode": {
    "name": "ipython",
    "version": 2
   },
   "file_extension": ".py",
   "mimetype": "text/x-python",
   "name": "python",
   "nbconvert_exporter": "python",
   "pygments_lexer": "ipython2",
   "version": "2.7.10"
  }
 },
 "nbformat": 4,
 "nbformat_minor": 1
}
