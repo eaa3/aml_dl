{
 "cells": [
  {
   "cell_type": "code",
   "execution_count": 32,
   "metadata": {
    "scrolled": false
   },
   "outputs": [
    {
     "name": "stdout",
     "output_type": "stream",
     "text": [
      "The autoreload extension is already loaded. To reload it, use:\n",
      "  %reload_ext autoreload\n"
     ]
    }
   ],
   "source": [
    "%load_ext autoreload"
   ]
  },
  {
   "cell_type": "code",
   "execution_count": 33,
   "metadata": {
    "collapsed": true
   },
   "outputs": [],
   "source": [
    "%autoreload 2"
   ]
  },
  {
   "cell_type": "code",
   "execution_count": 34,
   "metadata": {
    "collapsed": true
   },
   "outputs": [],
   "source": [
    "import tensorflow as tf"
   ]
  },
  {
   "cell_type": "code",
   "execution_count": 35,
   "metadata": {},
   "outputs": [],
   "source": [
    "%matplotlib inline\n",
    "import matplotlib.pyplot as plt\n",
    "import numpy as np\n",
    "import tensorflow as tf\n",
    "import math"
   ]
  },
  {
   "cell_type": "code",
   "execution_count": 36,
   "metadata": {},
   "outputs": [],
   "source": [
    "import numpy as np\n",
    "from sklearn import mixture\n",
    "import matplotlib.pyplot as plt"
   ]
  },
  {
   "cell_type": "code",
   "execution_count": 37,
   "metadata": {},
   "outputs": [],
   "source": [
    "#Generate data\n",
    "np.random.seed(27)\n",
    "w1 = np.random.rand(2,14)\n",
    "b1 = np.random.rand(2,1)\n",
    "\n",
    "w2 = np.random.rand(2,14)\n",
    "b2 = np.random.rand(2,1)*-10\n",
    "\n",
    "w3 = np.random.rand(2,14)\n",
    "b3 = np.random.rand(2,1)*10\n",
    "\n",
    "w4 = np.random.rand(2,14)\n",
    "b4 = np.random.rand(2,1)*25\n",
    "\n",
    "def f(x,w,b):\n",
    "    out = np.dot(x,w.T) + b.T\n",
    "    \n",
    "    return out\n",
    "\n",
    "def gendata():\n",
    "    x1 = np.random.randn(300,14)\n",
    "    x2 = np.random.randn(300,14)\n",
    "    x3 = np.random.randn(200,14)\n",
    "    x4 = np.random.randn(200,14)\n",
    "    obs = np.concatenate((f(x1,w1,b1) + 1.6*np.random.randn(1), f(x2,w2,b2) + 1.3*np.random.randn(1), f(x3,w3,b3) + 1.3*np.random.randn(1), f(x4,w4,b4) + 1.1*np.random.randn(1)))\n",
    "    return obs, np.vstack([x1,x2,x3,x4])"
   ]
  },
  {
   "cell_type": "code",
   "execution_count": 38,
   "metadata": {
    "scrolled": true
   },
   "outputs": [
    {
     "name": "stdout",
     "output_type": "stream",
     "text": [
      "(1000, 2)\n",
      "(1000, 14)\n",
      "[ 0.15620087  0.03622692] [-9.38837594 -2.17037958] [ 1.31373854  4.60711879] [  3.06917465  17.99889061]\n"
     ]
    },
    {
     "data": {
      "image/png": "[encoded data removed]",
      "text/plain": [
       "<matplotlib.figure.Figure at 0x13045e4d0>"
      ]
     },
     "metadata": {},
     "output_type": "display_data"
    }
   ],
   "source": [
    "\n",
    "obs, input_x = gendata()\n",
    "\n",
    "plt.plot(obs[:, 0], obs[:, 1], '.', markersize=1.0)\n",
    "\n",
    "print obs.shape\n",
    "print input_x.shape\n",
    "\n",
    "print f(input_x,w1,b1)[0,:], f(input_x,w2,b2)[0,:], f(input_x,w3,b3)[0,:], f(input_x,w4,b4)[0,:]"
   ]
  },
  {
   "cell_type": "code",
   "execution_count": 39,
   "metadata": {
    "scrolled": true
   },
   "outputs": [
    {
     "data": {
      "image/png": "[encoded data removed]",
      "text/plain": [
       "<matplotlib.figure.Figure at 0x130452510>"
      ]
     },
     "metadata": {},
     "output_type": "display_data"
    }
   ],
   "source": [
    "counts, xedges, yedges, image = plt.hist2d(obs[:, 0], obs[:, 1],bins=50)"
   ]
  },
  {
   "cell_type": "markdown",
   "metadata": {},
   "source": [
    "## Parameters"
   ]
  },
  {
   "cell_type": "code",
   "execution_count": 40,
   "metadata": {
    "collapsed": true
   },
   "outputs": [],
   "source": [
    "NSAMPLE = 2500"
   ]
  },
  {
   "cell_type": "code",
   "execution_count": 41,
   "metadata": {},
   "outputs": [],
   "source": [
    "from aml_dl.mdn.training.config import network_params_inv"
   ]
  },
  {
   "cell_type": "code",
   "execution_count": 42,
   "metadata": {},
   "outputs": [],
   "source": [
    "from aml_dl.mdn.model.mdn_push_inv_model import MDNPushInverseModel"
   ]
  },
  {
   "cell_type": "code",
   "execution_count": 43,
   "metadata": {},
   "outputs": [],
   "source": [
    "sess = tf.InteractiveSession()"
   ]
  },
  {
   "cell_type": "code",
   "execution_count": 44,
   "metadata": {},
   "outputs": [],
   "source": [
    "network_params_inv['dim_input'] = 14\n",
    "network_params_inv['dim_output'] = 2\n",
    "network_params_inv['k_mixtures'] = 4\n",
    "network_params_inv['write_summary'] = False\n",
    "\n",
    "inverse_model = MDNPushInverseModel(sess=sess, network_params=network_params_inv)\n",
    "inverse_model.init_model()"
   ]
  },
  {
   "cell_type": "code",
   "execution_count": 45,
   "metadata": {},
   "outputs": [],
   "source": [
    "x_curr   = np.random.randn(1,7).tolist()[0]\n",
    "x_tgt    = np.random.randn(1,7).tolist()[0]\n",
    "u_action = np.random.random((1,2))"
   ]
  },
  {
   "cell_type": "code",
   "execution_count": 46,
   "metadata": {
    "scrolled": true
   },
   "outputs": [],
   "source": [
    "# input_x = np.expand_dims(np.r_[x_curr, x_tgt], 0)\n",
    "\n",
    "# x_test = np.float32(np.random.uniform(-5.5, 5.5, (10,14)))\n",
    "\n",
    "# mus = inverse_model.run_op('mu', x_test)\n",
    "# sigma = inverse_model.run_op('sigma', x_test)\n",
    "# pis = inverse_model.run_op('pi', x_test)\n",
    "# # loss = inverse_model._mdn.run_op(sess,'loss', xs = x_test, ys = u_action)[0]\n",
    "\n",
    "# print \"MUS: \", mus.shape\n",
    "# print \"SIGMA: \", sigma.shape\n",
    "# print \"PIs:\", pis.shape\n",
    "# # print \"LOSS:\", loss\n",
    "# #theta = inverse_model.sample_out_max_pi(input_x, 1)[0]\n",
    "    \n",
    "# pi_ids = inverse_model._max_pi_idx(pis)\n",
    "# print pi_ids\n",
    "# action = mus[0,:, pi_ids]\n",
    "# print action"
   ]
  },
  {
   "cell_type": "code",
   "execution_count": 47,
   "metadata": {},
   "outputs": [],
   "source": [
    "xs = input_x#np.random.uniform(-10.5, 10.5, (14, NSAMPLE)).T\n",
    "ys = obs#np.random.uniform(-10.5, 10.5, (2, NSAMPLE)).T"
   ]
  },
  {
   "cell_type": "code",
   "execution_count": 84,
   "metadata": {
    "scrolled": true
   },
   "outputs": [],
   "source": [
    "sess.run(tf.global_variables_initializer())\n",
    "\n",
    "NEPOCH = 10000\n",
    "loss = inverse_model.train(x_data = xs, y_data = ys, epochs =  NEPOCH)"
   ]
  },
  {
   "cell_type": "code",
   "execution_count": 85,
   "metadata": {},
   "outputs": [
    {
     "name": "stdout",
     "output_type": "stream",
     "text": [
      "[ 8.36965084  8.32245159  8.27647305  8.23058224  8.18481922  8.1399765\n",
      "  8.09631634  8.05395699  8.01292801  7.97322273  7.93482113  7.89768219\n",
      "  7.8617568   7.82698441  7.79329681  7.76061535  7.72887039  7.69751596\n",
      "  7.66633844  7.63578939  7.60587311  7.57617569  7.54597664  7.51542473\n",
      "  7.48503685  7.4549861   7.42541456  7.39573145  7.36511135  7.33476734\n",
      "  7.30480194  7.27526999  7.24627924  7.21794844  7.19035149  7.16349554\n",
      "  7.13736534  7.11191702  7.08712006  7.06293488  7.03933001  7.01626825\n",
      "  6.99371481  6.97162247  6.94995117  6.92865324  6.90768814  6.88701582\n",
      "  6.8666153   6.84646082  6.82655096  6.80618858  6.78430367  6.76230669\n",
      "  6.74037981  6.71866417  6.697258    6.67622662  6.65560722  6.63541555\n",
      "  6.61563301  6.59623718  6.577178    6.55840445  6.53986406  6.52152491\n",
      "  6.5033741   6.485425    6.46768761  6.45018482  6.43293142  6.41594267\n",
      "  6.39923096  6.38279963  6.36666012  6.35080767  6.33524227  6.31995726\n",
      "  6.30494452  6.29018927  6.27568102  6.26071882  6.24472809  6.22837687\n",
      "  6.21191883  6.19554377  6.17938471  6.16351461  6.14797354  6.13277054\n",
      "  6.11790943  6.10340405  6.0892725   6.07553673  6.06221104  6.04929256\n",
      "  6.03676844  6.02461338  6.01279545  6.00128078]\n"
     ]
    }
   ],
   "source": [
    "print loss[:100]"
   ]
  },
  {
   "cell_type": "code",
   "execution_count": 86,
   "metadata": {
    "scrolled": false
   },
   "outputs": [
    {
     "data": {
      "image/png": "[encoded data removed]",
      "text/plain": [
       "<matplotlib.figure.Figure at 0x12cfb2a10>"
      ]
     },
     "metadata": {},
     "output_type": "display_data"
    }
   ],
   "source": [
    "plt.figure(figsize=(8, 8))\n",
    "plt.plot(np.arange(100, NEPOCH,1), loss[100:], 'r-')\n",
    "plt.show()"
   ]
  },
  {
   "cell_type": "code",
   "execution_count": 87,
   "metadata": {},
   "outputs": [],
   "source": [
    "# from aml_dl.mdn.model.tf_mdn_model import MixtureOfGaussians"
   ]
  },
  {
   "cell_type": "code",
   "execution_count": 88,
   "metadata": {},
   "outputs": [],
   "source": [
    "out_pi = inverse_model._net_ops['pi']\n",
    "out_sigma = inverse_model._net_ops['sigma']\n",
    "out_mu = inverse_model._net_ops['mu']\n",
    "x = inverse_model._net_ops['x']"
   ]
  },
  {
   "cell_type": "code",
   "execution_count": null,
   "metadata": {},
   "outputs": [],
   "source": []
  },
  {
   "cell_type": "code",
   "execution_count": 89,
   "metadata": {},
   "outputs": [],
   "source": [
    "# mixture = MixtureOfGaussians()"
   ]
  },
  {
   "cell_type": "code",
   "execution_count": 90,
   "metadata": {
    "collapsed": true
   },
   "outputs": [],
   "source": [
    "x_test = np.random.uniform(-10.5, 10.5, (14, NSAMPLE)).T\n",
    "NTEST = x_test.size\n",
    "# ids\n"
   ]
  },
  {
   "cell_type": "code",
   "execution_count": 91,
   "metadata": {},
   "outputs": [
    {
     "data": {
      "text/plain": [
       "array([-1.11507676, -1.23370216, -1.26788754,  0.60321692,  1.10255068,\n",
       "        1.50807299,  0.76113001,  0.51978011,  0.72241364, -0.08678211,\n",
       "       -0.22698337,  0.22780245,  0.47119014, -2.16606772])"
      ]
     },
     "execution_count": 91,
     "metadata": {},
     "output_type": "execute_result"
    }
   ],
   "source": [
    "input_x[0]"
   ]
  },
  {
   "cell_type": "code",
   "execution_count": 92,
   "metadata": {},
   "outputs": [],
   "source": [
    "out_pi_test, out_sigma_test, out_mu_test = sess.run([out_pi, out_sigma, out_mu], \n",
    "                                                    feed_dict={x: input_x})"
   ]
  },
  {
   "cell_type": "code",
   "execution_count": 93,
   "metadata": {
    "scrolled": true
   },
   "outputs": [
    {
     "name": "stdout",
     "output_type": "stream",
     "text": [
      "(1000, 4) (2500, 14) (1000, 4) (1000, 2, 4)\n"
     ]
    }
   ],
   "source": [
    "\n",
    "print out_pi_test.shape, x_test.shape, out_sigma_test.shape, out_mu_test.shape\n"
   ]
  },
  {
   "cell_type": "code",
   "execution_count": 97,
   "metadata": {
    "scrolled": true
   },
   "outputs": [
    {
     "name": "stdout",
     "output_type": "stream",
     "text": [
      "[  2.96037728e-09   1.98437350e-10   9.99997973e-01   2.04483968e-06]\n"
     ]
    }
   ],
   "source": [
    "# print out_mu_test.reshape((300,2))\n",
    "print out_pi_test[0]"
   ]
  },
  {
   "cell_type": "code",
   "execution_count": 104,
   "metadata": {},
   "outputs": [
    {
     "data": {
      "text/plain": [
       "(1000, 2, 100)"
      ]
     },
     "execution_count": 104,
     "metadata": {},
     "output_type": "execute_result"
    }
   ],
   "source": [
    "samples = inverse_model._generate_mixture_samples_from_max_pi(out_pi_test,out_mu_test,out_sigma_test, 100)\n",
    "samples.shape"
   ]
  },
  {
   "cell_type": "code",
   "execution_count": 100,
   "metadata": {},
   "outputs": [
    {
     "name": "stdout",
     "output_type": "stream",
     "text": [
      "(1000, 2, 100)\n"
     ]
    }
   ],
   "source": [
    "print samples.shape"
   ]
  },
  {
   "cell_type": "code",
   "execution_count": 74,
   "metadata": {
    "scrolled": false
   },
   "outputs": [],
   "source": [
    "# import time\n",
    "# # %matplotlib nbagg\n",
    "# import matplotlib.pyplot as plt\n",
    "# idx = 0\n",
    "# fig, ax = plt.subplots(1,1)\n",
    "# for idx in range(0,1000):\n",
    "#     counts, xedges, yedges, image = ax.hist2d(samples[idx,0,:],samples[idx,1,:], bins = 100)\n",
    "#     fig.canvas.draw()\n",
    "#     time.sleep(1)\n",
    "#     plt.show(block=False)"
   ]
  },
  {
   "cell_type": "code",
   "execution_count": null,
   "metadata": {},
   "outputs": [],
   "source": []
  },
  {
   "cell_type": "code",
   "execution_count": 101,
   "metadata": {},
   "outputs": [
    {
     "data": {
      "image/png": "[encoded data removed]",
      "text/plain": [
       "<matplotlib.figure.Figure at 0x1334fb090>"
      ]
     },
     "metadata": {},
     "output_type": "display_data"
    }
   ],
   "source": [
    "plt.figure(2)\n",
    "# print samples[:,0,:].\n",
    "# counts, xedges, yedges, image = plt.hist2d(samples[:,0,:].flatten(),samples[:,1,:].flatten(), bins = 100)\n",
    "plt.scatter(samples[:,0,:],samples[:,1,:])\n",
    "plt.show()"
   ]
  },
  {
   "cell_type": "code",
   "execution_count": 73,
   "metadata": {
    "scrolled": true
   },
   "outputs": [],
   "source": [
    "# plt.figure(figsize=(8, 8))\n",
    "# plt.scatter(samples[:,0,:],samples[:,1,:],s=out_sigma_test[:,1]*100, c=np.random.rand(2500,3), alpha=0.3)\n",
    "# plt.show()"
   ]
  },
  {
   "cell_type": "code",
   "execution_count": null,
   "metadata": {
    "scrolled": true
   },
   "outputs": [],
   "source": [
    "\n",
    "\n",
    "y_test = mixture.generate_mixture_samples(out_pi_test, out_mu_test, out_sigma_test,100)\n",
    "\n",
    "plt.figure(figsize=(8, 8))\n",
    "plt.plot(x_data,y_data,'ro', x_test,y_test,'bo',alpha=0.3)\n",
    "plt.show()"
   ]
  },
  {
   "cell_type": "code",
   "execution_count": null,
   "metadata": {
    "collapsed": true
   },
   "outputs": [],
   "source": []
  },
  {
   "cell_type": "code",
   "execution_count": null,
   "metadata": {
    "collapsed": true
   },
   "outputs": [],
   "source": []
  }
 ],
 "metadata": {
  "kernelspec": {
   "display_name": "Python 2",
   "language": "python",
   "name": "python2"
  }
 },
 "nbformat": 4,
 "nbformat_minor": 1
}
